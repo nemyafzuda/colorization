{
 "cells": [
  {
   "cell_type": "code",
   "execution_count": 10,
   "metadata": {},
   "outputs": [],
   "source": [
    "from PIL import Image\n",
    "import os\n",
    "import cv2\n",
    "import numpy as np\n",
    "import matplotlib.pyplot as plt\n",
    "import scipy.ndimage\n",
    "import skimage.exposure\n",
    "\n",
    "FILE_PATH = \"/data/fd2135/imagenet/ILSVRC/Data/DET/train/ILSVRC2013_train\"\n",
    "SAVE_PATH = \"/data/fd2135/imagenet/ILSVRC/Data/DET/train/ILSVRC2013_train_sketch\"\n",
    "\n",
    "def grayscale(rgb): \n",
    "    return np.dot(rgb[...,:3], [0.2989, 0.5870, 0.1140])\n",
    "\n",
    "first_dirs = os.listdir(FILE_PATH)\n",
    "#dirsSorted = sorted(dirs, key=lambda filename:int(filename[-13:-5]))\n",
    "j=0\n",
    "for sec_file in first_dirs:\n",
    "    SEC_FILE_PATH=os.path.join(FILE_PATH,sec_file)\n",
    "    SEC_SAVE_PATH=os.path.join(SAVE_PATH,sec_file)\n",
    "    os.mkdir(SEC_SAVE_PATH)\n",
    "    dirs = os.listdir(SEC_FILE_PATH)\n",
    "    i=0\n",
    "    for file in dirs:\n",
    "        filename=os.path.join(SEC_FILE_PATH,file)\n",
    "        im = cv2.imread(filename)\n",
    "        im = scipy.ndimage.gaussian_filter(im, sigma=1)\n",
    "    \n",
    "        gray = grayscale(im)\n",
    "        im_dilation = scipy.ndimage.grey_dilation(gray, size=(5,5))\n",
    "        im_erosion = scipy.ndimage.grey_erosion(gray, size=(5,5))\n",
    "    \n",
    "        x=abs(im_dilation-im_erosion)*3\n",
    "    \n",
    "        x=255-((x-np.min(x))/(np.max(x)-np.min(x))*255).astype(int)\n",
    "        \n",
    "        savename=os.path.join(SEC_SAVE_PATH,file)\n",
    "        cv2.imwrite(savename, x)"
   ]
  },
  {
   "cell_type": "code",
   "execution_count": null,
   "metadata": {},
   "outputs": [],
   "source": []
  }
 ],
 "metadata": {
  "kernelspec": {
   "display_name": "Python 3",
   "language": "python",
   "name": "python3"
  },
  "language_info": {
   "codemirror_mode": {
    "name": "ipython",
    "version": 3
   },
   "file_extension": ".py",
   "mimetype": "text/x-python",
   "name": "python",
   "nbconvert_exporter": "python",
   "pygments_lexer": "ipython3",
   "version": "3.8.10"
  }
 },
 "nbformat": 4,
 "nbformat_minor": 4
}
